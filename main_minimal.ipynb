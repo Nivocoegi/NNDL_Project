{
 "cells": [
  {
   "metadata": {
    "ExecuteTime": {
     "end_time": "2025-05-05T18:54:14.917971Z",
     "start_time": "2025-05-05T18:54:14.914400Z"
    }
   },
   "cell_type": "code",
   "source": [
    "from torchvision import transforms\n",
    "from torchvision.datasets import ImageFolder\n",
    "import collections"
   ],
   "id": "1ef25e244362ccb1",
   "outputs": [],
   "execution_count": 36
  },
  {
   "metadata": {},
   "cell_type": "markdown",
   "source": [
    "## 1 Data Preprocessing\n",
    "### 1.1 Data Import"
   ],
   "id": "988d8f8d0936b03"
  },
  {
   "cell_type": "code",
   "id": "initial_id",
   "metadata": {
    "collapsed": true,
    "ExecuteTime": {
     "end_time": "2025-05-05T18:54:20.653151Z",
     "start_time": "2025-05-05T18:54:20.640610Z"
    }
   },
   "source": [
    "# choos directory of pictures\n",
    "data_dir = \"./images_original\"\n",
    "\n",
    "\n",
    "# Load full the dataset with original image size\n",
    "# Define transformer: \n",
    "transform=transforms.Compose([transforms.Resize((288, 432)), transforms.ToTensor()])\n",
    "\n",
    "# load data\n",
    "dataset = ImageFolder(data_dir,  transform=transform)\n",
    "\n",
    "# check output\n",
    "print(dataset)\n"
   ],
   "outputs": [
    {
     "name": "stdout",
     "output_type": "stream",
     "text": [
      "Dataset ImageFolder\n",
      "    Number of datapoints: 999\n",
      "    Root location: ./images_original\n",
      "    StandardTransform\n",
      "Transform: Compose(\n",
      "               Resize(size=(288, 432), interpolation=bilinear, max_size=None, antialias=True)\n",
      "               ToTensor()\n",
      "           )\n"
     ]
    }
   ],
   "execution_count": 37
  },
  {
   "metadata": {},
   "cell_type": "markdown",
   "source": "### 1.2 Small Subset",
   "id": "b0a07e0e6b6929ca"
  },
  {
   "metadata": {
    "ExecuteTime": {
     "end_time": "2025-05-05T18:54:35.634906Z",
     "start_time": "2025-05-05T18:54:32.221675Z"
    }
   },
   "cell_type": "code",
   "source": [
    "# from torch.utils.data import Subset\n",
    "# \n",
    "# \n",
    "# # Load a subset of the dataset*\n",
    "# # criterion for subset, and  initialization\n",
    "# class_counts = collections.defaultdict(int)\n",
    "# max_per_class = 100  # maximum number of spectrograms per genre\n",
    "# genre_indices = []\n",
    "# \n",
    "# # Iterate through the dataset and select indices of spectrogram's*\n",
    "# for idx, (img, label) in enumerate(dataset):\n",
    "#     if class_counts[label] < max_per_class:\n",
    "#         genre_indices.append(idx)\n",
    "#         class_counts[label] += 1\n",
    "#     # stopping criteria if all genres contain 10 spectrogram's\n",
    "#     if len(class_counts) == len(dataset.classes) and all(c >= max_per_class for c in class_counts.values()):\n",
    "#         break\n",
    "#         \n",
    "# # created subset with the selected indices*\n",
    "# subset_data = Subset(dataset, genre_indices)\n",
    "# \n",
    "# \n",
    "# # Check Subset\n",
    "# print(f\"Spectrogram's in subset: {len(subset_data)}\")\n"
   ],
   "id": "1eede90d421c70d2",
   "outputs": [
    {
     "name": "stdout",
     "output_type": "stream",
     "text": [
      "Spectrogram's in subset: 999\n"
     ]
    }
   ],
   "execution_count": 39
  },
  {
   "metadata": {},
   "cell_type": "markdown",
   "source": "### 1.3 Train-Test Split for Subset",
   "id": "3310776b8cddbfde"
  },
  {
   "metadata": {
    "ExecuteTime": {
     "end_time": "2025-05-05T18:54:07.017421Z",
     "start_time": "2025-05-05T18:54:07.015378Z"
    }
   },
   "cell_type": "code",
   "source": [
    "# from sklearn.model_selection import train_test_split\n",
    "# \n",
    "# # Train Ration\n",
    "# train_ratio = 0.8\n",
    "# \n",
    "# # Collect indices and labels\n",
    "# all_indices = list(range(len(subset_data)))\n",
    "# all_labels = [subset_data[i][1] for i in all_indices]  # Integer-Labels\n",
    "# \n",
    "# # Stratified Split\n",
    "# train_indices, test_indices = train_test_split(\n",
    "#     all_indices,\n",
    "#     train_size=train_ratio,\n",
    "#     stratify=all_labels,\n",
    "#     random_state=42  # for reproducibility\n",
    "# )\n",
    "# \n",
    "# # create subsets\n",
    "# train_subset = Subset(subset_data, train_indices)\n",
    "# test_subset = Subset(subset_data, test_indices)\n",
    "# \n",
    "# # Create data loaders (load the train and validation into batches)\n",
    "# train_loader = DataLoader(train_subset, batch_size=32, shuffle=True)\n",
    "# test_loader = DataLoader(test_subset, batch_size=32, shuffle=False)\n",
    "# \n",
    "# # Print the number of samples in each set\n",
    "# print(f\"Number of training samples: {len(train_subset)}\") \n",
    "# print(f\"Number of testing samples: {len(test_subset)}\")"
   ],
   "id": "eaeb95507206d7ca",
   "outputs": [],
   "execution_count": 35
  },
  {
   "metadata": {},
   "cell_type": "markdown",
   "source": [
    "### 1.3.2 Train-Validation-Test Split for whole Data\n",
    "\n"
   ],
   "id": "f76b4fd52e065fd7"
  },
  {
   "metadata": {
    "ExecuteTime": {
     "end_time": "2025-05-05T18:58:15.109651Z",
     "start_time": "2025-05-05T18:58:11.363968Z"
    }
   },
   "cell_type": "code",
   "source": [
    "from sklearn.model_selection import StratifiedShuffleSplit, StratifiedKFold\n",
    "from torch.utils.data import Subset, DataLoader\n",
    "import torch\n",
    "\n",
    "#  Extracting Tags\n",
    "targets = [dataset[i][1] for i in range(len(dataset))]  # assuming (x, label)\n",
    "\n",
    "# Stratified Split: 90% Train+Val, 10% Test\n",
    "sss = StratifiedShuffleSplit(n_splits=1, test_size=0.1, random_state=42)\n",
    "for train_val_idx, test_idx in sss.split(X=targets, y=targets):\n",
    "    pass\n",
    "\n",
    "# # Debug: Testverteilung\n",
    "# test_targets = [targets[i] for i in test_idx]\n",
    "# print(\"Test:\", Counter(test_targets))\n",
    "\n",
    "# Stratified K-Fold on Train+Val (90%)\n",
    "train_val_targets = [targets[i] for i in train_val_idx]\n",
    "skf = StratifiedKFold(n_splits=5)\n",
    "\n",
    "for fold, (train_idx, val_idx) in enumerate(skf.split(train_val_idx, train_val_targets)):\n",
    "    # Map indices back to original dataset\n",
    "    train_indices = [train_val_idx[i] for i in train_idx]\n",
    "    val_indices = [train_val_idx[i] for i in val_idx]\n",
    "\n",
    "    train_targets = [targets[i] for i in train_indices]\n",
    "    val_targets = [targets[i] for i in val_indices]\n",
    "\n",
    "    # print(f\"\\nFold {fold+1}\")\n",
    "    # print(\"Train:\", Counter(train_targets))\n",
    "    # print(\"Validation:\", Counter(val_targets))\n",
    "\n",
    "    # Erstelle Subsets und Loader\n",
    "    train_subset = Subset(dataset, train_indices)\n",
    "    val_subset = Subset(dataset, val_indices)\n",
    "    test_subset = Subset(dataset, test_idx)\n",
    "\n",
    "    train_loader = DataLoader(train_subset, batch_size=32, shuffle=True)\n",
    "    val_loader = DataLoader(val_subset, batch_size=32, shuffle=False)\n",
    "    test_loader = DataLoader(test_subset, batch_size=32, shuffle=False)\n",
    "\n",
    "\n",
    "print(f\"Number of training samples: {len(train_subset)}\") \n",
    "print(f\"Number of validation samples: {len(val_subset)}\")\n",
    "print(f\"Number of test samples: {len(test_subset)}\")"
   ],
   "id": "1b5a2e605f29b24",
   "outputs": [
    {
     "name": "stdout",
     "output_type": "stream",
     "text": [
      "Number of training samples: 720\n",
      "Number of validation samples: 179\n",
      "Number of test samples: 100\n"
     ]
    }
   ],
   "execution_count": 43
  },
  {
   "metadata": {},
   "cell_type": "markdown",
   "source": "Check how many samples are in each class and subset: ",
   "id": "65a7d31cdf9043aa"
  },
  {
   "metadata": {
    "ExecuteTime": {
     "end_time": "2025-05-05T18:58:23.682683Z",
     "start_time": "2025-05-05T18:58:19.367735Z"
    }
   },
   "cell_type": "code",
   "source": [
    "from collections import Counter\n",
    "\n",
    "# helper function to get distribution of classes\n",
    "def get_dist(ds):\n",
    "    return Counter([ds[i][1] for i in range(len(ds))])\n",
    "\n",
    "# print distributions\n",
    "print(\"Train:\", get_dist(train_subset))\n",
    "print(\"Validation:\", get_dist(val_subset))\n",
    "print(\"Test:\", get_dist(test_subset))"
   ],
   "id": "ee45e36ef1cc853a",
   "outputs": [
    {
     "name": "stdout",
     "output_type": "stream",
     "text": [
      "Train: Counter({6: 72, 8: 72, 0: 72, 3: 72, 4: 72, 5: 72, 7: 72, 1: 72, 2: 72, 9: 72})\n",
      "Validation: Counter({6: 18, 8: 18, 2: 18, 3: 18, 0: 18, 7: 18, 4: 18, 1: 18, 9: 18, 5: 17})\n",
      "Test: Counter({3: 10, 4: 10, 1: 10, 0: 10, 9: 10, 7: 10, 2: 10, 8: 10, 5: 10, 6: 10})\n"
     ]
    }
   ],
   "execution_count": 44
  },
  {
   "metadata": {},
   "cell_type": "markdown",
   "source": [
    "## 2. Model\n",
    "### 2.1 Base Model setup"
   ],
   "id": "436ed831a172bbdf"
  },
  {
   "metadata": {
    "ExecuteTime": {
     "end_time": "2025-05-05T19:15:31.119289Z",
     "start_time": "2025-05-05T19:15:30.973965Z"
    }
   },
   "cell_type": "code",
   "source": [
    "import torch.nn as nn\n",
    "import torch.optim as optim\n",
    "import torch.nn.functional as F\n",
    "\n",
    "# Define a simple CNN\n",
    "class SimpleCNN(nn.Module):\n",
    "    def __init__(self, num_classes):\n",
    "        super(SimpleCNN, self).__init__()\n",
    "        self.conv1 = nn.Conv2d(3, 16, kernel_size=3, padding=1)\n",
    "        self.conv2 = nn.Conv2d(16, 32, kernel_size=3, padding=1)\n",
    "        self.pool = nn.MaxPool2d(2, 2)\n",
    "        self.fc1 = nn.Linear(32 * 72 * 108, 128)  # adjusted to your input size (288x432 / 4)\n",
    "        self.fc2 = nn.Linear(128, num_classes)\n",
    "\n",
    "    def forward(self, x):\n",
    "        x = self.pool(F.relu(self.conv1(x)))  # (3x288x432) -> (16x144x216)\n",
    "        x = self.pool(F.relu(self.conv2(x)))  # (16x144x216) -> (32x72x108)\n",
    "        x = x.view(x.size(0), -1)  # flatten\n",
    "        x = F.relu(self.fc1(x))\n",
    "        x = self.fc2(x)\n",
    "        return x\n",
    "\n",
    "# Device\n",
    "device = torch.device(\"cuda\" if torch.cuda.is_available() else \"cpu\")\n",
    "\n",
    "# Instantiate model\n",
    "num_classes = len(dataset.classes)\n",
    "model = SimpleCNN(num_classes).to(device)\n",
    "\n",
    "# Loss and optimizer\n",
    "criterion = nn.CrossEntropyLoss()\n",
    "optimizer = optim.Adam(model.parameters(), lr=0.001)"
   ],
   "id": "159535e21050261a",
   "outputs": [],
   "execution_count": 55
  },
  {
   "metadata": {},
   "cell_type": "markdown",
   "source": "### 2.2 Training loop",
   "id": "3ad694cc7cc90709"
  },
  {
   "metadata": {
    "jupyter": {
     "is_executing": true
    },
    "ExecuteTime": {
     "start_time": "2025-05-05T19:15:49.239064Z"
    }
   },
   "cell_type": "code",
   "source": [
    "import time\n",
    "import pandas as pd\n",
    "\n",
    "training_logs = []\n",
    "\n",
    "# Training loop\n",
    "num_epochs = 10\n",
    "\n",
    "for epoch in range(num_epochs):\n",
    "    start_time = time.time()\n",
    "\n",
    "    # --- Training ---\n",
    "    model.train()\n",
    "    running_loss = 0.0\n",
    "    correct = 0\n",
    "    total = 0\n",
    "\n",
    "    for images, labels in train_loader:\n",
    "        images, labels = images.to(device), labels.to(device)\n",
    "\n",
    "        optimizer.zero_grad()\n",
    "        outputs = model(images)\n",
    "        loss = criterion(outputs, labels)\n",
    "        loss.backward()\n",
    "        optimizer.step()\n",
    "\n",
    "        running_loss += loss.item()\n",
    "        _, predicted = torch.max(outputs, 1)\n",
    "        total += labels.size(0)\n",
    "        correct += (predicted == labels).sum().item()\n",
    "\n",
    "    train_loss = running_loss\n",
    "    train_acc = correct / total\n",
    "\n",
    "    # --- Evaluation ---\n",
    "    model.eval()\n",
    "    val_loss = 0.0\n",
    "    correct = 0\n",
    "    total = 0\n",
    "\n",
    "    with torch.no_grad():\n",
    "        for images, labels in val_loader:\n",
    "            images, labels = images.to(device), labels.to(device)\n",
    "            outputs = model(images)\n",
    "            loss = criterion(outputs, labels)\n",
    "\n",
    "            val_loss += loss.item()\n",
    "            _, predicted = torch.max(outputs, 1)\n",
    "            total += labels.size(0)\n",
    "            correct += (predicted == labels).sum().item()\n",
    "\n",
    "    val_acc = correct / total\n",
    "    end_time = time.time()\n",
    "    epoch_time = end_time - start_time\n",
    "\n",
    "    # --- Logging ---\n",
    "    training_logs.append({\n",
    "        \"epoch\": epoch + 1,\n",
    "        \"train_loss\": train_loss,\n",
    "        \"train_accuracy\": train_acc,\n",
    "        \"val_loss\": val_loss,\n",
    "        \"val_accuracy\": val_acc,\n",
    "        \"epoch_time_sec\": epoch_time\n",
    "    })\n",
    "\n",
    "    print(f\"Epoch [{epoch+1}/{num_epochs}] \"\n",
    "          f\"Train Loss: {train_loss:.4f}, Train Acc: {train_acc:.4f} | \"\n",
    "          f\"Validation Loss: {val_loss:.4f}, Validation Acc: {val_acc:.4f} | \"\n",
    "          f\"Time: {epoch_time:.2f}s\")\n",
    "\n",
    "# Optional: Convert to DataFrame and save\n",
    "logs_df = pd.DataFrame(training_logs)\n",
    "logs_df.to_csv(\"training_logs.csv\", index=False)\n"
   ],
   "id": "1f0a1e4c0885bb3e",
   "outputs": [
    {
     "name": "stdout",
     "output_type": "stream",
     "text": [
      "Epoch [1/10] Train Loss: 74.4572, Train Acc: 0.1111 | Validation Loss: 13.7658, Validation Acc: 0.0950 | Time: 32.05s\n",
      "Epoch [2/10] Train Loss: 52.3577, Train Acc: 0.0931 | Validation Loss: 13.4865, Validation Acc: 0.1453 | Time: 31.55s\n"
     ]
    }
   ],
   "execution_count": null
  },
  {
   "metadata": {},
   "cell_type": "markdown",
   "source": "### 2.3 Evaluation with Test set",
   "id": "ef4fdeece963e784"
  },
  {
   "metadata": {
    "ExecuteTime": {
     "end_time": "2025-05-05T19:14:08.484954Z",
     "start_time": "2025-05-05T19:14:05.535094Z"
    }
   },
   "cell_type": "code",
   "source": [
    "# Evaluation\n",
    "model.eval()\n",
    "correct = 0\n",
    "total = 0\n",
    "\n",
    "with torch.no_grad():\n",
    "    for images, labels in test_loader:\n",
    "        images, labels = images.to(device), labels.to(device)\n",
    "        outputs = model(images)\n",
    "        _, predicted = torch.max(outputs, 1)\n",
    "        total += labels.size(0)\n",
    "        correct += (predicted == labels).sum().item()\n",
    "\n",
    "print(f\"Test Accuracy: {correct / total:.4f}\")\n"
   ],
   "id": "6a47cfdd5eeb5622",
   "outputs": [
    {
     "name": "stdout",
     "output_type": "stream",
     "text": [
      "Test Accuracy: 0.5200\n"
     ]
    }
   ],
   "execution_count": 51
  },
  {
   "metadata": {},
   "cell_type": "markdown",
   "source": "### 2.4 Evaluation Ploting Results",
   "id": "82e5ae5cb149239c"
  },
  {
   "metadata": {
    "ExecuteTime": {
     "end_time": "2025-05-05T19:14:58.995005Z",
     "start_time": "2025-05-05T19:14:58.856273Z"
    }
   },
   "cell_type": "code",
   "source": [
    "import matplotlib.pyplot as plt\n",
    "\n",
    "# Ensure your DataFrame logs_df exists\n",
    "# logs_df = pd.read_csv(\"training_logs.csv\")  # Optional: reload if needed\n",
    "\n",
    "fig, axes = plt.subplots(1, 2, figsize=(12, 5))\n",
    "\n",
    "# --- Accuracy subplot ---\n",
    "axes[0].plot(logs_df[\"epoch\"], logs_df[\"train_accuracy\"], label=\"Train Accuracy\", marker='o')\n",
    "axes[0].plot(logs_df[\"epoch\"], logs_df[\"val_accuracy\"], label=\"Validation Accuracy\", marker='x')\n",
    "axes[0].set_title(\"Accuracy over Epochs\")\n",
    "axes[0].set_xlabel(\"Epoch\")\n",
    "axes[0].set_ylabel(\"Accuracy\")\n",
    "axes[0].legend()\n",
    "axes[0].grid(False)\n",
    "\n",
    "# --- Loss subplot ---\n",
    "axes[1].plot(logs_df[\"epoch\"], logs_df[\"train_loss\"], label=\"Train Loss\", marker='o')\n",
    "axes[1].plot(logs_df[\"epoch\"], logs_df[\"val_loss\"], label=\"Validation Loss\", marker='x')\n",
    "axes[1].set_title(\"Loss over Epochs\")\n",
    "axes[1].set_xlabel(\"Epoch\")\n",
    "axes[1].set_ylabel(\"Loss\")\n",
    "axes[1].legend()\n",
    "axes[1].grid(False)\n",
    "\n",
    "plt.tight_layout()\n",
    "plt.show()\n"
   ],
   "id": "36499afea7dc5497",
   "outputs": [
    {
     "data": {
      "text/plain": [
       "<Figure size 1200x500 with 2 Axes>"
      ],
      "image/png": "[encoded data removed]"
     },
     "metadata": {},
     "output_type": "display_data"
    }
   ],
   "execution_count": 54
  }
 ],
 "metadata": {
  "kernelspec": {
   "display_name": "Python 3",
   "language": "python",
   "name": "python3"
  },
  "language_info": {
   "codemirror_mode": {
    "name": "ipython",
    "version": 2
   },
   "file_extension": ".py",
   "mimetype": "text/x-python",
   "name": "python",
   "nbconvert_exporter": "python",
   "pygments_lexer": "ipython2",
   "version": "2.7.6"
  }
 },
 "nbformat": 4,
 "nbformat_minor": 5
}
